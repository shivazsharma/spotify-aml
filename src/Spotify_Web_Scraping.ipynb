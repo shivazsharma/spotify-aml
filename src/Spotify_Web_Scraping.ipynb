{
 "cells": [
  {
   "cell_type": "markdown",
   "id": "c5528f94",
   "metadata": {},
   "source": [
    "### Importing and setting the Client ID and Secret for using the Spotify API"
   ]
  },
  {
   "cell_type": "code",
   "execution_count": null,
   "id": "6320f8c9",
   "metadata": {},
   "outputs": [],
   "source": [
    "import requests\n",
    "\n",
    "CLIENT_ID = 'f0eb909d5e5149848a7a302e799a9e2b'\n",
    "CLIENT_SECRET = 'e5140f6cdc874631afe2b18b4dfc61db'"
   ]
  },
  {
   "cell_type": "markdown",
   "id": "7f4d48ce",
   "metadata": {},
   "source": [
    "### Setting the Auth URL and token for the Spotify API"
   ]
  },
  {
   "cell_type": "code",
   "execution_count": null,
   "id": "be521148",
   "metadata": {},
   "outputs": [],
   "source": [
    "AUTH_URL = 'https://accounts.spotify.com/api/token'\n",
    "\n",
    "# POST\n",
    "auth_response = requests.post(AUTH_URL, {\n",
    "    'grant_type': 'client_credentials',\n",
    "    'client_id': CLIENT_ID,\n",
    "    'client_secret': CLIENT_SECRET,\n",
    "})\n",
    "\n",
    "# convert the response to JSON\n",
    "auth_response_data = auth_response.json()\n",
    "\n",
    "# save the access token\n",
    "access_token = auth_response_data['access_token']\n",
    "\n",
    "headers = {\n",
    "    'Authorization': 'Bearer {token}'.format(token=access_token)\n",
    "}"
   ]
  },
  {
   "cell_type": "markdown",
   "id": "cade9c42",
   "metadata": {},
   "source": [
    "### Writing out the initial column names of the csv file"
   ]
  },
  {
   "cell_type": "code",
   "execution_count": null,
   "id": "dd366d11",
   "metadata": {},
   "outputs": [],
   "source": [
    "f1 = open(\"results.csv\", 'a')\n",
    "factors = ['danceability', 'energy', 'loudness', 'speechiness', 'acousticness', 'instrumentalness', 'liveness', 'valence', 'tempo']\n",
    "for f in factors:\n",
    "    if f == \"tempo\":\n",
    "        f1.write(f + '\\n')\n",
    "    else:\n",
    "        f1.write(f + ',')"
   ]
  },
  {
   "cell_type": "markdown",
   "id": "23e30a5a",
   "metadata": {},
   "source": [
    "### Fetching the song data based on its track id and writing it to the results.csv"
   ]
  },
  {
   "cell_type": "code",
   "execution_count": null,
   "id": "801f9df1",
   "metadata": {},
   "outputs": [],
   "source": [
    "data_path = os.path.join('spotify-processed-data.csv')\n",
    "df = pd.read_csv(data_path, delimiter = ',')\n",
    "BASE_URL = 'https://api.spotify.com/v1/'\n",
    "for url in df['URL']:\n",
    "    track_id = url[:31]\n",
    "    response = requests.get(BASE_URL + 'audio-features/' + track_id, headers=headers)\n",
    "    response = response.json()\n",
    "    if 'error' in response.keys():\n",
    "        if response['error']['status'] == 404:\n",
    "            print('track_id status not found', track_id)\n",
    "            continue\n",
    "        if response['error']['status'] == 400:\n",
    "            print('track_id request invalid', track_id)\n",
    "            continue\n",
    "        elif response['error']['status'] == 429:\n",
    "            print(\"Received 429 error from server\")\n",
    "            time.sleep(900)\n",
    "            r = requests.get(BASE_URL + 'audio-features/' + track_id, headers=headers)\n",
    "\n",
    "    f1.write(track_id + ',')\n",
    "    for f in factors:\n",
    "        if f == \"tempo\":\n",
    "            f1.write(str(response[f]) + '\\n')\n",
    "        else:\n",
    "            f1.write(str(response[f]) + ','"
   ]
  }
 ],
 "metadata": {
  "kernelspec": {
   "display_name": "Python 3 (ipykernel)",
   "language": "python",
   "name": "python3"
  },
  "language_info": {
   "codemirror_mode": {
    "name": "ipython",
    "version": 3
   },
   "file_extension": ".py",
   "mimetype": "text/x-python",
   "name": "python",
   "nbconvert_exporter": "python",
   "pygments_lexer": "ipython3",
   "version": "3.7.13"
  }
 },
 "nbformat": 4,
 "nbformat_minor": 5
}
